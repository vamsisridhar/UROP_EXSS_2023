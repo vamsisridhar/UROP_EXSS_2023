{
 "cells": [
  {
   "cell_type": "code",
   "execution_count": 1,
   "metadata": {},
   "outputs": [
    {
     "ename": "AttributeError",
     "evalue": "module 'pyximport.pyximport' has no attribute 'get_distutils_extension'",
     "output_type": "error",
     "traceback": [
      "\u001b[1;31m---------------------------------------------------------------------------\u001b[0m",
      "\u001b[1;31mAttributeError\u001b[0m                            Traceback (most recent call last)",
      "Cell \u001b[1;32mIn[1], line 1\u001b[0m\n\u001b[1;32m----> 1\u001b[0m \u001b[39mimport\u001b[39;00m \u001b[39mscqubits\u001b[39;00m \u001b[39mas\u001b[39;00m \u001b[39mscq\u001b[39;00m\n\u001b[0;32m      3\u001b[0m tmon \u001b[39m=\u001b[39m scq\u001b[39m.\u001b[39mTransmon\u001b[39m.\u001b[39mcreate()\n",
      "File \u001b[1;32mc:\\Users\\vamsi\\anaconda3\\envs\\quantumSystems\\lib\\site-packages\\scqubits\\__init__.py:28\u001b[0m\n\u001b[0;32m     26\u001b[0m \u001b[39m# core\u001b[39;00m\n\u001b[0;32m     27\u001b[0m \u001b[39mfrom\u001b[39;00m \u001b[39mscqubits\u001b[39;00m\u001b[39m.\u001b[39;00m\u001b[39mcore\u001b[39;00m\u001b[39m.\u001b[39;00m\u001b[39mcentral_dispatch\u001b[39;00m \u001b[39mimport\u001b[39;00m CentralDispatch\n\u001b[1;32m---> 28\u001b[0m \u001b[39mfrom\u001b[39;00m \u001b[39mscqubits\u001b[39;00m\u001b[39m.\u001b[39;00m\u001b[39mcore\u001b[39;00m\u001b[39m.\u001b[39;00m\u001b[39mcos2phi_qubit\u001b[39;00m \u001b[39mimport\u001b[39;00m Cos2PhiQubit\n\u001b[0;32m     29\u001b[0m \u001b[39mfrom\u001b[39;00m \u001b[39mscqubits\u001b[39;00m\u001b[39m.\u001b[39;00m\u001b[39mcore\u001b[39;00m\u001b[39m.\u001b[39;00m\u001b[39mdiscretization\u001b[39;00m \u001b[39mimport\u001b[39;00m Grid1d\n\u001b[0;32m     30\u001b[0m \u001b[39mfrom\u001b[39;00m \u001b[39mscqubits\u001b[39;00m\u001b[39m.\u001b[39;00m\u001b[39mcore\u001b[39;00m\u001b[39m.\u001b[39;00m\u001b[39mflux_qubit\u001b[39;00m \u001b[39mimport\u001b[39;00m FluxQubit\n",
      "File \u001b[1;32mc:\\Users\\vamsi\\anaconda3\\envs\\quantumSystems\\lib\\site-packages\\scqubits\\core\\cos2phi_qubit.py:30\u001b[0m\n\u001b[0;32m     28\u001b[0m \u001b[39mimport\u001b[39;00m \u001b[39mscqubits\u001b[39;00m\u001b[39m.\u001b[39;00m\u001b[39mcore\u001b[39;00m\u001b[39m.\u001b[39;00m\u001b[39mconstants\u001b[39;00m \u001b[39mas\u001b[39;00m \u001b[39mconstants\u001b[39;00m\n\u001b[0;32m     29\u001b[0m \u001b[39mimport\u001b[39;00m \u001b[39mscqubits\u001b[39;00m\u001b[39m.\u001b[39;00m\u001b[39mcore\u001b[39;00m\u001b[39m.\u001b[39;00m\u001b[39mdescriptors\u001b[39;00m \u001b[39mas\u001b[39;00m \u001b[39mdescriptors\u001b[39;00m\n\u001b[1;32m---> 30\u001b[0m \u001b[39mimport\u001b[39;00m \u001b[39mscqubits\u001b[39;00m\u001b[39m.\u001b[39;00m\u001b[39mcore\u001b[39;00m\u001b[39m.\u001b[39;00m\u001b[39mdiscretization\u001b[39;00m \u001b[39mas\u001b[39;00m \u001b[39mdiscretization\u001b[39;00m\n\u001b[0;32m     31\u001b[0m \u001b[39mimport\u001b[39;00m \u001b[39mscqubits\u001b[39;00m\u001b[39m.\u001b[39;00m\u001b[39mcore\u001b[39;00m\u001b[39m.\u001b[39;00m\u001b[39moperators\u001b[39;00m \u001b[39mas\u001b[39;00m \u001b[39mop\u001b[39;00m\n\u001b[0;32m     32\u001b[0m \u001b[39mimport\u001b[39;00m \u001b[39mscqubits\u001b[39;00m\u001b[39m.\u001b[39;00m\u001b[39mcore\u001b[39;00m\u001b[39m.\u001b[39;00m\u001b[39moscillator\u001b[39;00m \u001b[39mas\u001b[39;00m \u001b[39mosc\u001b[39;00m\n",
      "File \u001b[1;32mc:\\Users\\vamsi\\anaconda3\\envs\\quantumSystems\\lib\\site-packages\\scqubits\\core\\discretization.py:23\u001b[0m\n\u001b[0;32m     21\u001b[0m \u001b[39mimport\u001b[39;00m \u001b[39mscqubits\u001b[39;00m\u001b[39m.\u001b[39;00m\u001b[39mcore\u001b[39;00m\u001b[39m.\u001b[39;00m\u001b[39mcentral_dispatch\u001b[39;00m \u001b[39mas\u001b[39;00m \u001b[39mdispatch\u001b[39;00m\n\u001b[0;32m     22\u001b[0m \u001b[39mimport\u001b[39;00m \u001b[39mscqubits\u001b[39;00m\u001b[39m.\u001b[39;00m\u001b[39mcore\u001b[39;00m\u001b[39m.\u001b[39;00m\u001b[39mdescriptors\u001b[39;00m \u001b[39mas\u001b[39;00m \u001b[39mdescriptors\u001b[39;00m\n\u001b[1;32m---> 23\u001b[0m \u001b[39mimport\u001b[39;00m \u001b[39mscqubits\u001b[39;00m\u001b[39m.\u001b[39;00m\u001b[39mio_utils\u001b[39;00m\u001b[39m.\u001b[39;00m\u001b[39mfileio_serializers\u001b[39;00m \u001b[39mas\u001b[39;00m \u001b[39mserializers\u001b[39;00m\n\u001b[0;32m     24\u001b[0m \u001b[39mimport\u001b[39;00m \u001b[39mscqubits\u001b[39;00m\u001b[39m.\u001b[39;00m\u001b[39msettings\u001b[39;00m \u001b[39mas\u001b[39;00m \u001b[39msettings\u001b[39;00m\n\u001b[0;32m     25\u001b[0m \u001b[39mimport\u001b[39;00m \u001b[39mscqubits\u001b[39;00m\u001b[39m.\u001b[39;00m\u001b[39mutils\u001b[39;00m\u001b[39m.\u001b[39;00m\u001b[39mmisc\u001b[39;00m \u001b[39mas\u001b[39;00m \u001b[39mutils\u001b[39;00m\n",
      "File \u001b[1;32mc:\\Users\\vamsi\\anaconda3\\envs\\quantumSystems\\lib\\site-packages\\scqubits\\io_utils\\fileio_serializers.py:30\u001b[0m\n\u001b[0;32m     27\u001b[0m \u001b[39mfrom\u001b[39;00m \u001b[39msympy\u001b[39;00m \u001b[39mimport\u001b[39;00m Expr\n\u001b[0;32m     28\u001b[0m \u001b[39mfrom\u001b[39;00m \u001b[39mtyping_extensions\u001b[39;00m \u001b[39mimport\u001b[39;00m Protocol, runtime_checkable\n\u001b[1;32m---> 30\u001b[0m \u001b[39mimport\u001b[39;00m \u001b[39mscqubits\u001b[39;00m\u001b[39m.\u001b[39;00m\u001b[39mutils\u001b[39;00m\u001b[39m.\u001b[39;00m\u001b[39mmisc\u001b[39;00m \u001b[39mas\u001b[39;00m \u001b[39mutils\u001b[39;00m\n\u001b[0;32m     32\u001b[0m \u001b[39mif\u001b[39;00m TYPE_CHECKING:\n\u001b[0;32m     33\u001b[0m     \u001b[39mfrom\u001b[39;00m \u001b[39mscqubits\u001b[39;00m\u001b[39m.\u001b[39;00m\u001b[39mio_utils\u001b[39;00m\u001b[39m.\u001b[39;00m\u001b[39mfileio\u001b[39;00m \u001b[39mimport\u001b[39;00m IOData\n",
      "File \u001b[1;32mc:\\Users\\vamsi\\anaconda3\\envs\\quantumSystems\\lib\\site-packages\\scqubits\\utils\\misc.py:23\u001b[0m\n\u001b[0;32m     20\u001b[0m \u001b[39mfrom\u001b[39;00m \u001b[39mtyping\u001b[39;00m \u001b[39mimport\u001b[39;00m Any, Callable, Dict, Iterable, List, Optional, Tuple, Union\n\u001b[0;32m     22\u001b[0m \u001b[39mimport\u001b[39;00m \u001b[39mnumpy\u001b[39;00m \u001b[39mas\u001b[39;00m \u001b[39mnp\u001b[39;00m\n\u001b[1;32m---> 23\u001b[0m \u001b[39mimport\u001b[39;00m \u001b[39mqutip\u001b[39;00m \u001b[39mas\u001b[39;00m \u001b[39mqt\u001b[39;00m\n\u001b[0;32m     24\u001b[0m \u001b[39mimport\u001b[39;00m \u001b[39mscipy\u001b[39;00m \u001b[39mas\u001b[39;00m \u001b[39msp\u001b[39;00m\n\u001b[0;32m     26\u001b[0m \u001b[39mfrom\u001b[39;00m \u001b[39mscqubits\u001b[39;00m\u001b[39m.\u001b[39;00m\u001b[39msettings\u001b[39;00m \u001b[39mimport\u001b[39;00m IN_IPYTHON\n",
      "File \u001b[1;32mc:\\Users\\vamsi\\anaconda3\\envs\\quantumSystems\\lib\\site-packages\\qutip\\__init__.py:64\u001b[0m\n\u001b[0;32m     59\u001b[0m     warnings\u001b[39m.\u001b[39mwarn(\n\u001b[0;32m     60\u001b[0m         \u001b[39m\"\u001b[39m\u001b[39mOld version of Cython detected: needed \u001b[39m\u001b[39m{}\u001b[39;00m\u001b[39m, got \u001b[39m\u001b[39m{}\u001b[39;00m\u001b[39m.\u001b[39m\u001b[39m\"\u001b[39m\n\u001b[0;32m     61\u001b[0m         \u001b[39m.\u001b[39mformat(_cy_require, _Cython\u001b[39m.\u001b[39m__version__)\n\u001b[0;32m     62\u001b[0m     )\n\u001b[0;32m     63\u001b[0m \u001b[39m# Setup pyximport\u001b[39;00m\n\u001b[1;32m---> 64\u001b[0m \u001b[39mimport\u001b[39;00m \u001b[39mqutip\u001b[39;00m\u001b[39m.\u001b[39;00m\u001b[39mcy\u001b[39;00m\u001b[39m.\u001b[39;00m\u001b[39mpyxbuilder\u001b[39;00m \u001b[39mas\u001b[39;00m \u001b[39m_pyxbuilder\u001b[39;00m\n\u001b[0;32m     65\u001b[0m _pyxbuilder\u001b[39m.\u001b[39minstall()\n\u001b[0;32m     66\u001b[0m \u001b[39mdel\u001b[39;00m _pyxbuilder, _Cython, _version2int\n",
      "File \u001b[1;32mc:\\Users\\vamsi\\anaconda3\\envs\\quantumSystems\\lib\\site-packages\\qutip\\cy\\pyxbuilder.py:17\u001b[0m\n\u001b[0;32m     12\u001b[0m     warnings\u001b[39m.\u001b[39mfilterwarnings(\n\u001b[0;32m     13\u001b[0m         \u001b[39m\"\u001b[39m\u001b[39mignore\u001b[39m\u001b[39m\"\u001b[39m, category\u001b[39m=\u001b[39m\u001b[39mDeprecationWarning\u001b[39;00m, module\u001b[39m=\u001b[39m\u001b[39m\"\u001b[39m\u001b[39mpyximport\u001b[39m\u001b[39m\"\u001b[39m,\n\u001b[0;32m     14\u001b[0m     )\n\u001b[0;32m     15\u001b[0m     \u001b[39mimport\u001b[39;00m \u001b[39mpyximport\u001b[39;00m\n\u001b[1;32m---> 17\u001b[0m old_get_distutils_extension \u001b[39m=\u001b[39m pyximport\u001b[39m.\u001b[39;49mpyximport\u001b[39m.\u001b[39;49mget_distutils_extension\n\u001b[0;32m     20\u001b[0m \u001b[39mdef\u001b[39;00m \u001b[39mnew_get_distutils_extension\u001b[39m(modname, pyxfilename, language_level\u001b[39m=\u001b[39m\u001b[39mNone\u001b[39;00m):\n\u001b[0;32m     21\u001b[0m     \u001b[39m# Remove -Wstrict-prototypes from cflags; we build in C++ mode, where the\u001b[39;00m\n\u001b[0;32m     22\u001b[0m     \u001b[39m# flag is invalid, but for some reason distutils still has it as a default,\u001b[39;00m\n\u001b[0;32m     23\u001b[0m     \u001b[39m# and tries to append CFLAGS to the compile even in C++ mode.\u001b[39;00m\n\u001b[0;32m     24\u001b[0m     \u001b[39mimport\u001b[39;00m \u001b[39mdistutils\u001b[39;00m\u001b[39m.\u001b[39;00m\u001b[39msysconfig\u001b[39;00m\n",
      "\u001b[1;31mAttributeError\u001b[0m: module 'pyximport.pyximport' has no attribute 'get_distutils_extension'"
     ]
    }
   ],
   "source": [
    "import scqubits as scq\n",
    "\n",
    "tmon = scq.Transmon.create()\n"
   ]
  },
  {
   "cell_type": "code",
   "execution_count": null,
   "metadata": {},
   "outputs": [],
   "source": []
  }
 ],
 "metadata": {
  "kernelspec": {
   "display_name": "quantumSystems",
   "language": "python",
   "name": "python3"
  },
  "language_info": {
   "codemirror_mode": {
    "name": "ipython",
    "version": 3
   },
   "file_extension": ".py",
   "mimetype": "text/x-python",
   "name": "python",
   "nbconvert_exporter": "python",
   "pygments_lexer": "ipython3",
   "version": "3.10.11"
  },
  "orig_nbformat": 4
 },
 "nbformat": 4,
 "nbformat_minor": 2
}
