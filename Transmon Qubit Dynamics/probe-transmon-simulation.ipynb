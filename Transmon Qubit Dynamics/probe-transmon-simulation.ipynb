{
 "cells": [
  {
   "cell_type": "code",
   "execution_count": 6,
   "metadata": {},
   "outputs": [],
   "source": [
    "import matplotlib.pyplot as plt\n",
    "import numpy as np\n",
    "from qutip import *\n",
    "import scipy.integrate as integrate\n",
    "\n",
    "%matplotlib inline"
   ]
  },
  {
   "cell_type": "code",
   "execution_count": 7,
   "metadata": {},
   "outputs": [],
   "source": [
    "# QuTiP Hamiltonian functions\n",
    "\n",
    "def hamiltonian(Ec, Ej, N, ng):\n",
    "    \"\"\"\n",
    "    Return the charge qubit hamiltonian as a Qobj instance.\n",
    "    \"\"\"\n",
    "    m = np.diag(4 * Ec * (np.arange(-N,N+1)-ng)**2) + 0.5 * Ej * (np.diag(-np.ones(2*N), 1) + \n",
    "                                                               np.diag(-np.ones(2*N), -1))\n",
    "    return Qobj(m)\n",
    "\n",
    "def Hc(Ec, Ej, N, ng):\n",
    "    \"\"\"\n",
    "    Reutrn the charging term of the charge qubit hamiltonian as a Qobj instance\n",
    "    \"\"\"\n",
    "    m = np.diag(4 * Ec * (np.arange(-N,N+1)-ng)**2) \n",
    "    \n",
    "    return Qobj(m)\n",
    "\n",
    "def Hj(Ec, Ej, N, ng):\n",
    "    \"\"\"\n",
    "    Reutrn the charging term of the charge qubit hamiltonian as a Qobj instance\n",
    "    \"\"\"\n",
    "    \n",
    "    m = 0.5 * Ej * (np.diag(-np.ones(2*N), 1) + np.diag(-np.ones(2*N), -1))\n",
    "    \n",
    "    return Qobj(m)\n",
    "\n",
    "\n"
   ]
  },
  {
   "cell_type": "code",
   "execution_count": 8,
   "metadata": {},
   "outputs": [],
   "source": [
    "# Plotting functions\n",
    "\n",
    "def plot_energies(ng_vec, energies, ymax=(20, 3)):\n",
    "    \"\"\"\n",
    "    Plot energy levels as a function of bias parameter ng_vec.\n",
    "    \"\"\"\n",
    "    fig, axes = plt.subplots(1,2, figsize=(16,6))\n",
    "\n",
    "    for n in range(len(energies[0,:])):\n",
    "        axes[0].plot(ng_vec, energies[:,n])\n",
    "    axes[0].set_ylim(-2, ymax[0])\n",
    "    axes[0].set_xlabel(r'$n_g$', fontsize=18)\n",
    "    axes[0].set_ylabel(r'$E_n$', fontsize=18)\n",
    "\n",
    "    for n in range(len(energies[0,:])):\n",
    "        axes[1].plot(ng_vec, (energies[:,n]-energies[:,0]))\n",
    "    axes[1].set_ylim(-0.1, ymax[1])\n",
    "    axes[1].set_xlabel(r'$n_g$', fontsize=18)\n",
    "    axes[1].set_ylabel(r'$(E_n-E_0)/(E_1-E_0)$', fontsize=18)\n",
    "    return fig, axes\n",
    "\n",
    "def visualize_dynamics(result, ylabel):\n",
    "    \"\"\"\n",
    "    Plot the evolution of the expectation values stored in result.\n",
    "    \"\"\"\n",
    "    fig, ax = plt.subplots(figsize=(12,5))\n",
    "\n",
    "    ax.plot(result.times, result.expect[0])\n",
    "\n",
    "    ax.set_ylabel(ylabel, fontsize=16)\n",
    "    ax.set_xlabel(r'$t$', fontsize=16)"
   ]
  },
  {
   "cell_type": "code",
   "execution_count": 18,
   "metadata": {},
   "outputs": [],
   "source": [
    "# EJ Pulsing\n",
    "\n",
    "def EJ_tanh_pulse(t, P0, R0, T):\n",
    "    return (1-P0*(1+np.tanh(-R0+(t/T)*2*R0))/2.0)\n",
    "\n",
    "# Time depenedent part (drive)\n",
    "def Hd_coeff(t,args):\n",
    "    Percentage=args['Percentage']\n",
    "    Range=args['Range']\n",
    "    T=args['T']\n",
    "    return EJ_tanh_pulse(t, P0, R0, T)"
   ]
  },
  {
   "cell_type": "code",
   "execution_count": 31,
   "metadata": {},
   "outputs": [],
   "source": [
    "# Function for plottting the overlap between the original and the first excited state\n",
    "\n",
    "def calculate_overlap(t, N, Ec, Ej, ng, T, P0, R0, states):\n",
    "    Points=3000\n",
    "\n",
    "    ng_vec = np.linspace(-1, 1, 200)\n",
    "    energies = np.array([hamiltonian(Ec, Ej, N, ng).eigenenergies() for ng in ng_vec])\n",
    "    evals, ekets = hamiltonian(Ec, Ej, N, ng).eigenstates()\n",
    "    Htot = [Hc(Ec,Ej,N,ng), [Hj(Ec,Ej,N,ng), Hd_coeff]]\n",
    "    psi0=ekets[0]\n",
    "    evalsf, eketsf = hamiltonian(Ec, Ej*EJ_tanh_pulse(T, P0, R0, T), N, ng).eigenstates()\n",
    "    output = sesolve(Htot, psi0, t, args={'Percentage': P0, 'Range': R0,'T':T})\n",
    "\n",
    "    overlap_list = []\n",
    "    for state in states:\n",
    "        Ovrlp=np.zeros(Points)\n",
    "\n",
    "\n",
    "        if state < 0:\n",
    "            for n in range(0,Points):\n",
    "                Ovrlp[n]=np.abs(psi0.dag().overlap(output.states[n]))**2\n",
    "        else:\n",
    "            for n in range(0,Points):\n",
    "                Ovrlp[n]=np.abs(eketsf[state].dag().overlap(output.states[n]))**2\n",
    "\n",
    "        overlap_list.append(Ovrlp)\n",
    "\n",
    "    return overlap_list\n",
    "\n",
    "        \n",
    "\n",
    "    "
   ]
  },
  {
   "cell_type": "code",
   "execution_count": 33,
   "metadata": {},
   "outputs": [
    {
     "data": {
      "image/png": "[encoded data removed]",
      "text/plain": [
       "<Figure size 640x480 with 1 Axes>"
      ]
     },
     "metadata": {},
     "output_type": "display_data"
    }
   ],
   "source": [
    "N = 10\n",
    "Ec = 1.0\n",
    "Ej = 50.0\n",
    "ng=0.5\n",
    "T=100.0\n",
    "Points=3000\n",
    "P0=0.99\n",
    "R0=500*np.pi\n",
    "\n",
    "tlist = np.linspace(0, T, Points)\n",
    "plt.plot(tlist, EJ_tanh_pulse(tlist, P0, R0, T))\n",
    "plt.show()\n",
    "\n",
    "Ovrlps = calculate_overlap(tlist, N, Ec, Ej, ng, T, P0, R0, states = [-1, 0])\n",
    "\n",
    "fig, ax = plt.subplots(figsize=(8, 5))\n",
    "ax.plot(tlist, Ovrlps[0], label=\"Overlap1\")\n",
    "ax.plot(tlist, Ovrlps[1], label=\"Overlap2\")\n",
    "ax.legend()\n",
    "ax.set_xlim([0,T])\n",
    "ax.set_ylim([0.0, 1.1])\n",
    "plt.show()"
   ]
  },
  {
   "cell_type": "code",
   "execution_count": null,
   "metadata": {},
   "outputs": [],
   "source": []
  }
 ],
 "metadata": {
  "kernelspec": {
   "display_name": "quantumSystems",
   "language": "python",
   "name": "python3"
  },
  "language_info": {
   "codemirror_mode": {
    "name": "ipython",
    "version": 3
   },
   "file_extension": ".py",
   "mimetype": "text/x-python",
   "name": "python",
   "nbconvert_exporter": "python",
   "pygments_lexer": "ipython3",
   "version": "3.10.11"
  },
  "orig_nbformat": 4
 },
 "nbformat": 4,
 "nbformat_minor": 2
}
