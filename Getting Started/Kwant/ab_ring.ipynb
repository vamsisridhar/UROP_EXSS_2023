{
 "cells": [
  {
   "attachments": {
    "image.png": {
     "image/png": "[encoded data removed]"
    }
   },
   "cell_type": "markdown",
   "metadata": {},
   "source": [
    "Suppose a magnetic flux ($\\Phi$) is pierced through a quantum ring, as shown below:\n",
    "\n",
    "![image.png](attachment:image.png)"
   ]
  },
  {
   "cell_type": "code",
   "execution_count": 1,
   "metadata": {},
   "outputs": [
    {
     "name": "stderr",
     "output_type": "stream",
     "text": [
      "c:\\Users\\vamsi\\anaconda3\\envs\\quantumSystems\\lib\\site-packages\\kwant\\solvers\\default.py:16: RuntimeWarning: MUMPS is not available, SciPy built-in solver will be used as a fallback. Performance can be very poor in this case.\n",
      "  warnings.warn(\"MUMPS is not available, \"\n"
     ]
    }
   ],
   "source": [
    "import kwant\n",
    "import numpy as np"
   ]
  },
  {
   "cell_type": "code",
   "execution_count": null,
   "metadata": {},
   "outputs": [],
   "source": [
    "def make_system(a: float=1, t: float=1.0, W: int=10, r1: int=10, r2: int=20):\n",
    "    \"\"\"\n",
    "    a - lattice spacing\n",
    "    t - hopping\n",
    "    W - width of lattice\n",
    "    r1 - radius of inner circle\n",
    "    r2 - radius of outer circle\n",
    "    \"\"\"\n",
    "    \n",
    "    # Create a square lattice structure\n",
    "    lat = kwant.lattice.square(a)\n",
    "\n",
    "    # Create a kwant system \n",
    "    syst = kwant.Builder()\n",
    "\n",
    "    def ring(pos: tuple) -> bool:\n",
    "        \"\"\"\n",
    "        pos - position of lattice point\n",
    "\n",
    "        Checks whether pos in within the ring defined by r1 and r2\n",
    "        \"\"\"\n",
    "        (x, y) = pos\n",
    "        rsq = x**2 + y**2\n",
    "        return (r1**2 < rsq < r2**2)\n",
    "\n",
    "    syst[lat.shape(ring, (0, r1 + 1))] = 4*t\n",
    "    syst[lat.neighbors()] = -t\n",
    "\n",
    "    def hopping_phase(site1, site2, phi):\n",
    "\n",
    "        \n",
    "\n",
    "        return -t * np.exp(1j * phi)\n",
    "\n",
    "\n"
   ]
  }
 ],
 "metadata": {
  "kernelspec": {
   "display_name": "quantumSystems",
   "language": "python",
   "name": "python3"
  },
  "language_info": {
   "codemirror_mode": {
    "name": "ipython",
    "version": 3
   },
   "file_extension": ".py",
   "mimetype": "text/x-python",
   "name": "python",
   "nbconvert_exporter": "python",
   "pygments_lexer": "ipython3",
   "version": "3.10.11"
  },
  "orig_nbformat": 4
 },
 "nbformat": 4,
 "nbformat_minor": 2
}
